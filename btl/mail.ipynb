{
 "cells": [
  {
   "cell_type": "code",
   "execution_count": 1,
   "id": "fc9629c3",
   "metadata": {},
   "outputs": [],
   "source": [
    "import mailbox\n",
    "import csv\n",
    "import re\n",
    "from email.header import decode_header\n",
    "from bs4 import BeautifulSoup\n",
    "from sklearn.feature_extraction.text import TfidfVectorizer\n",
    "from sklearn.linear_model import LogisticRegression\n",
    "from sklearn.model_selection import train_test_split\n",
    "from sklearn.metrics import classification_report, accuracy_score\n",
    "\n"
   ]
  },
  {
   "cell_type": "code",
   "execution_count": null,
   "id": "413f9b7c",
   "metadata": {},
   "outputs": [
    {
     "name": "stdout",
     "output_type": "stream",
     "text": [
      "File 'data.mbox' đã được tạo thành công với tất cả các thư từ các file mbox đã cho.\n"
     ]
    }
   ],
   "source": [
    "# Ghép nhiều file lại với nhau\n",
    "\n",
    "mbox_files = ['data1.mbox', 'data2.mbox', 'data3.mbox'] # tải file takeout của gg về giải nén ra rồi đổi tên hoặc \n",
    "output_file = 'data.mbox'\n",
    "merged_mbox = mailbox.mbox(output_file)\n",
    "for mbox_file in mbox_files:\n",
    "    current_mbox = mailbox.mbox(mbox_file)\n",
    "    \n",
    "\n",
    "    for message in current_mbox:\n",
    "        merged_mbox.add(message)\n",
    "merged_mbox.flush()\n",
    "merged_mbox.close()\n",
    "\n",
    "print(f\"File '{output_file}' đã được tạo thành công với tất cả các thư từ các file mbox đã cho.\")\n"
   ]
  },
  {
   "cell_type": "code",
   "execution_count": 3,
   "id": "c1ded78c",
   "metadata": {},
   "outputs": [],
   "source": [
    "def load_words(file_path):\n",
    "    with open(file_path, encoding='utf-8') as f:\n",
    "        return set(line.strip().lower() for line in f if line.strip())\n",
    "\n",
    "stopwords = load_words('vietnamese-stopwords.txt')\n",
    "spamwords = load_words('spamword.txt')\n",
    "\n",
    "def decode_mime_words(s):\n",
    "    if not s:\n",
    "        return ''\n",
    "    decoded_parts = decode_header(s)\n",
    "    result = ''\n",
    "    for part, enc in decoded_parts:\n",
    "        if isinstance(part, bytes):\n",
    "            try:\n",
    "                result += part.decode(enc or 'utf-8', errors='ignore')\n",
    "            except LookupError:\n",
    "                result += part.decode('utf-8', errors='ignore')\n",
    "        else:\n",
    "            result += part\n",
    "    return result\n",
    "\n",
    "\n",
    "def clean_text(text):\n",
    "    text = BeautifulSoup(text, \"html.parser\").get_text()\n",
    "    text = re.sub(r'[\\n\\r\\t]+', ' ', text)\n",
    "    text = re.sub(r'[^\\w\\sÀ-ỹ]', '', text)\n",
    "    words = text.lower().split()\n",
    "    filtered = [w for w in words if w not in stopwords]\n",
    "    return ' '.join(filtered)\n",
    "\n",
    "def extract_emails(mbox_file):\n",
    "    data = []\n",
    "    for message in mailbox.mbox(mbox_file):\n",
    "        subject = decode_mime_words(message['subject'])\n",
    "        subject_clean = clean_text(subject)\n",
    "\n",
    "        body = ''\n",
    "        if message.is_multipart():\n",
    "            for part in message.walk():\n",
    "                if part.get_content_type() == 'text/plain':\n",
    "                    try:\n",
    "                        body = part.get_payload(decode=True).decode(part.get_content_charset() or 'utf-8', errors='ignore')\n",
    "                        break\n",
    "                    except:\n",
    "                        pass\n",
    "        else:\n",
    "            try:\n",
    "                body = message.get_payload(decode=True).decode(message.get_content_charset() or 'utf-8', errors='ignore')\n",
    "            except:\n",
    "                pass\n",
    "\n",
    "        body_clean = clean_text(body)\n",
    "        full_text = subject_clean + ' ' + body_clean\n",
    "\n",
    "        is_spam = 1 if any(word in full_text for word in spamwords) else 0 # make a spam label\n",
    "        data.append((is_spam, full_text)) \n",
    "        output = \"output.csv\"\n",
    "        with open(output, 'w', encoding='utf-8', newline='') as csvfile:\n",
    "            writer = csv.writer(csvfile)\n",
    "            writer.writerow(['label', 'email_content']) \n",
    "            writer.writerows(data) \n",
    "    return data\n",
    "\n",
    "# Logistic Regression \n",
    "def train_model(data):\n",
    "    labels,texts  = zip(*data)\n",
    "\n",
    "    vectorizer = TfidfVectorizer()\n",
    "    X = vectorizer.fit_transform(texts)\n",
    "    y = labels\n",
    "\n",
    "    X_train, X_test, y_train, y_test = train_test_split(X, y, test_size=0.2, random_state=42)\n",
    "\n",
    "    model = LogisticRegression()\n",
    "    model.fit(X_train, y_train)\n",
    "\n",
    "    y_pred = model.predict(X_test)\n",
    "\n",
    "    print(\"\\n===== ĐÁNH GIÁ MÔ HÌNH =====\")\n",
    "    print(f\"Tổng số email xử lý: {len(data)}\")\n",
    "    print(f\"Số mẫu training     : {len(y_train)}\")\n",
    "    print(f\"Số mẫu test         : {len(y_test)}\")\n",
    "    print(f\"\\nAccuracy: {accuracy_score(y_test, y_pred):.4f}\\n\")\n",
    "    print(classification_report(y_test, y_pred, target_names=[\"Not Spam\", \"Spam\"]))\n",
    "\n",
    "\n",
    "\n",
    "\n"
   ]
  },
  {
   "cell_type": "code",
   "execution_count": 4,
   "id": "28763d9c",
   "metadata": {},
   "outputs": [
    {
     "name": "stdout",
     "output_type": "stream",
     "text": [
      "\n",
      "===== ĐÁNH GIÁ MÔ HÌNH =====\n",
      "Tổng số email xử lý: 1638\n",
      "Số mẫu training     : 1310\n",
      "Số mẫu test         : 328\n",
      "\n",
      "Accuracy: 0.9268\n",
      "\n",
      "              precision    recall  f1-score   support\n",
      "\n",
      "    Not Spam       0.93      1.00      0.96       304\n",
      "        Spam       0.00      0.00      0.00        24\n",
      "\n",
      "    accuracy                           0.93       328\n",
      "   macro avg       0.46      0.50      0.48       328\n",
      "weighted avg       0.86      0.93      0.89       328\n",
      "\n"
     ]
    },
    {
     "name": "stderr",
     "output_type": "stream",
     "text": [
      "C:\\Users\\doanx\\AppData\\Local\\Packages\\PythonSoftwareFoundation.Python.3.11_qbz5n2kfra8p0\\LocalCache\\local-packages\\Python311\\site-packages\\sklearn\\metrics\\_classification.py:1565: UndefinedMetricWarning: Precision is ill-defined and being set to 0.0 in labels with no predicted samples. Use `zero_division` parameter to control this behavior.\n",
      "  _warn_prf(average, modifier, f\"{metric.capitalize()} is\", len(result))\n",
      "C:\\Users\\doanx\\AppData\\Local\\Packages\\PythonSoftwareFoundation.Python.3.11_qbz5n2kfra8p0\\LocalCache\\local-packages\\Python311\\site-packages\\sklearn\\metrics\\_classification.py:1565: UndefinedMetricWarning: Precision is ill-defined and being set to 0.0 in labels with no predicted samples. Use `zero_division` parameter to control this behavior.\n",
      "  _warn_prf(average, modifier, f\"{metric.capitalize()} is\", len(result))\n",
      "C:\\Users\\doanx\\AppData\\Local\\Packages\\PythonSoftwareFoundation.Python.3.11_qbz5n2kfra8p0\\LocalCache\\local-packages\\Python311\\site-packages\\sklearn\\metrics\\_classification.py:1565: UndefinedMetricWarning: Precision is ill-defined and being set to 0.0 in labels with no predicted samples. Use `zero_division` parameter to control this behavior.\n",
      "  _warn_prf(average, modifier, f\"{metric.capitalize()} is\", len(result))\n"
     ]
    }
   ],
   "source": [
    "mbox_path = \"data2.mbox\" \n",
    "emails = extract_emails(mbox_path)\n",
    "train_model(emails)"
   ]
  }
 ],
 "metadata": {
  "kernelspec": {
   "display_name": "Python 3",
   "language": "python",
   "name": "python3"
  },
  "language_info": {
   "codemirror_mode": {
    "name": "ipython",
    "version": 3
   },
   "file_extension": ".py",
   "mimetype": "text/x-python",
   "name": "python",
   "nbconvert_exporter": "python",
   "pygments_lexer": "ipython3",
   "version": "3.11.9"
  }
 },
 "nbformat": 4,
 "nbformat_minor": 5
}
