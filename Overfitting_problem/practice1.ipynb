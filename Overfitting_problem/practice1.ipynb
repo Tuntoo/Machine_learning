{
 "cells": [
  {
   "cell_type": "code",
   "execution_count": 4,
   "metadata": {},
   "outputs": [],
   "source": [
    "## thêm lamda = 0.1 đến 0.01\n",
    "## linear regression và logistic regression áp dụng công thức regularized\n",
    "#####################################\n",
    "# C-5\n",
    "# elbow method chose K\n",
    "# làm bt cluster"
   ]
  },
  {
   "cell_type": "code",
   "execution_count": 10,
   "metadata": {},
   "outputs": [],
   "source": [
    "import numpy as np\n",
    "import math\n",
    "import matplotlib.pyplot as plt\n",
    "import pandas as pd\n",
    "from matplotlib.animation import FuncAnimation\n",
    "from mpl_toolkits.mplot3d import Axes3D\n",
    "from IPython.display import HTML\n",
    "\n",
    "lamda = 0.01"
   ]
  },
  {
   "cell_type": "code",
   "execution_count": 6,
   "metadata": {},
   "outputs": [
    {
     "name": "stdout",
     "output_type": "stream",
     "text": [
      "Final theta: [1.51297435e+01 4.66246922e+00 1.58456901e+00 7.33336594e-03]\n",
      "Final cost: 1.359332356858959\n"
     ]
    }
   ],
   "source": [
    "# Đọc dữ liệu\n",
    "data = pd.read_csv('Practice2_Chapter2.csv')\n",
    "\n",
    "# Lấy dữ liệu đầu vào và đầu ra\n",
    "Xdata = data[['TV', 'Radio', 'Newspaper']].values.T  # X có kích thước (3, m)\n",
    "y = data['Sales'].values  # y có kích thước (m,)\n",
    "\n",
    "# Chuẩn hóa dữ liệu (Feature Scaling - Standardization)\n",
    "Xdata = (Xdata - np.mean(Xdata, axis=1, keepdims=True)) / np.std(Xdata, axis=1, keepdims=True)\n",
    "\n",
    "X = Xdata\n",
    "\n",
    "# Khởi tạo tham số\n",
    "theta = np.zeros(4)  # theta0, theta1, theta2, theta3\n",
    "learning_rate = 1e-3\n",
    "iterations = 30000\n",
    "\n",
    "# Hàm dự đoán\n",
    "def predict(X, theta):\n",
    "    return theta[0] + theta[1] * X[0] + theta[2] * X[1] + theta[3] * X[2]\n",
    "\n",
    "def regularization(theta):\n",
    "    return theta[0]**2 + theta[1]**2 + theta[2]**2 + theta[3]**2 \n",
    "\n",
    "# Hàm tính chi phí\n",
    "def cost_function(X, y, theta):\n",
    "    m = len(X[0])\n",
    "    return (1/(2*m)) * (np.sum((predict(X, theta) - y) ** 2) + lamda * regularization(theta))\n",
    "\n",
    "# Hàm cập nhật Gradient Descent\n",
    "def update_gd():\n",
    "    global theta\n",
    "    m = len(X[0])\n",
    "    gradient = np.zeros(4)  # gradient cho theta0, theta1, theta2, theta3\n",
    "\n",
    "    gradient[0] = (1 / m) * np.sum(predict(X, theta) - y)\n",
    "\n",
    "    for j in range(1, 4):\n",
    "        gradient[j] = (1 / m) * np.sum((predict(X, theta) - y) * X[j - 1])\n",
    "\n",
    "    # Cập nhật theta\n",
    "    theta = theta*(1-(learning_rate*lamda/m)) - learning_rate * gradient\n",
    "\n",
    "for i in range(iterations):\n",
    "    update_gd()\n",
    "\n",
    "# In kết quả\n",
    "print(\"Final theta:\", theta)\n",
    "print(\"Final cost:\", cost_function(X, y, theta))\n"
   ]
  },
  {
   "cell_type": "code",
   "execution_count": 15,
   "metadata": {},
   "outputs": [
    {
     "name": "stdout",
     "output_type": "stream",
     "text": [
      "0.00017857142857142854\n",
      "0.0001305357142857143\n"
     ]
    }
   ],
   "source": [
    "\n",
    "# Data\n",
    "X = np.array([0.245, 0.247, 0.285, 0.299, 0.327, 0.347, 0.356, 0.36, 0.363, 0.364, 0.398, 0.4, 0.409, 0.421, 0.432, 0.473, 0.509, 0.529, 0.561, 0.569, 0.594, 0.638, 0.656, 0.816, 0.853, 0.938, 1.036, 1.045])\n",
    "y = np.array([0, 0, 1, 1, 1, 1, 0, 1, 0, 1, 0, 1, 0, 1, 0, 1, 1, 1, 0, 0, 1, 1, 1, 1, 1, 1, 1, 1])\n",
    "\n",
    "# Theta parameters and learning rate\n",
    "theta0 = 0\n",
    "theta1 = 0\n",
    "learning_rate = 1e-3\n",
    "iterations = 3000\n",
    "# Logistic function\n",
    "def logistic_function(z):\n",
    "    return 1 / (1 + np.exp(-z))\n",
    "\n",
    "def regularization(theta0,theta1):\n",
    "    return theta0 ** 2 + theta1 ** 2\n",
    "# Prediction function\n",
    "def predict(X, theta0, theta1):\n",
    "    z = theta0 + theta1 * X\n",
    "    gz = logistic_function(z)\n",
    "    return  gz\n",
    "\n",
    "# Cost function\n",
    "def cost_function(X, y_true, theta0, theta1):\n",
    "    m = len(X)\n",
    "    epsilon = 1e-15\n",
    "    y_pred = predict(X, theta0, theta1)\n",
    "    cost = -(1 / m) * np.sum(y_true * np.log(y_pred + epsilon) + (1 - y_true) * np.log(1 - y_pred + epsilon)) + (1/(2*m)) * lamda * regularization(theta0,theta1)\n",
    "    return cost\n",
    "\n",
    "# Gradient Descent\n",
    "def gradient_descent(X, y, theta0, theta1, learning_rate):\n",
    "    m = len(X)\n",
    "    gradient0 = (1 / m) * np.sum(predict(X, theta0, theta1) - y)\n",
    "    gradient1 = (1 / m) * np.sum((predict(X, theta0, theta1) - y) * X)\n",
    "    new_theta0 = theta0 * (1 - learning_rate*(lamda/m)) - learning_rate * gradient0\n",
    "    new_theta1 = theta1 * (1 - learning_rate*(lamda/m)) - learning_rate * gradient1\n",
    "    return new_theta0, new_theta1\n",
    "\n",
    "theta0, theta1 = gradient_descent(X, y, theta0, theta1, learning_rate)\n",
    "print(theta0)\n",
    "print(theta1)"
   ]
  }
 ],
 "metadata": {
  "kernelspec": {
   "display_name": "Python 3",
   "language": "python",
   "name": "python3"
  },
  "language_info": {
   "codemirror_mode": {
    "name": "ipython",
    "version": 3
   },
   "file_extension": ".py",
   "mimetype": "text/x-python",
   "name": "python",
   "nbconvert_exporter": "python",
   "pygments_lexer": "ipython3",
   "version": "3.11.9"
  }
 },
 "nbformat": 4,
 "nbformat_minor": 2
}
