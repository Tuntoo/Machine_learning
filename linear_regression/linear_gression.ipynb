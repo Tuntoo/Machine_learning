{
 "cells": [
  {
   "cell_type": "code",
   "execution_count": 48,
   "metadata": {},
   "outputs": [],
   "source": [
    "import numpy as np\n",
    "import math\n",
    "import matplotlib.pyplot as plt\n",
    "import pandas as pd\n",
    "from matplotlib.animation import FuncAnimation\n",
    "from mpl_toolkits.mplot3d import Axes3D\n",
    "from IPython.display import HTML"
   ]
  },
  {
   "cell_type": "code",
   "execution_count": 49,
   "metadata": {},
   "outputs": [
    {
     "name": "stdout",
     "output_type": "stream",
     "text": [
      "Final theta: [1.51305000e+01 4.66270025e+00 1.58465027e+00 7.29187136e-03]\n",
      "Final cost: 1.353003073813658\n"
     ]
    }
   ],
   "source": [
    "\n",
    "\n",
    "# Đọc dữ liệu\n",
    "data = pd.read_csv('Practice2_Chapter2.csv')\n",
    "\n",
    "# Lấy dữ liệu đầu vào và đầu ra\n",
    "Xdata = data[['TV', 'Radio', 'Newspaper']].values.T  # X có kích thước (3, m)\n",
    "y = data['Sales'].values  # y có kích thước (m,)\n",
    "\n",
    "# Chuẩn hóa dữ liệu (Feature Scaling - Standardization)\n",
    "Xdata = (Xdata - np.mean(Xdata, axis=1, keepdims=True)) / np.std(Xdata, axis=1, keepdims=True)\n",
    "\n",
    "X = Xdata\n",
    "\n",
    "# Khởi tạo tham số\n",
    "theta = np.zeros(4)  # theta0, theta1, theta2, theta3\n",
    "learning_rate = 1e-3\n",
    "iterations = 30000\n",
    "\n",
    "# Hàm dự đoán\n",
    "def predict(X, theta):\n",
    "    return theta[0] + theta[1] * X[0] + theta[2] * X[1] + theta[3] * X[2]\n",
    "\n",
    "# Hàm tính chi phí\n",
    "def cost_function(X, y, theta):\n",
    "    m = len(X[0])\n",
    "    return (1/(2*m)) * np.sum((predict(X, theta) - y) ** 2)\n",
    "\n",
    "# Hàm cập nhật Gradient Descent\n",
    "def update_gd():\n",
    "    global theta\n",
    "    m = len(X[0])\n",
    "    gradient = np.zeros(4)  # gradient cho theta0, theta1, theta2, theta3\n",
    "\n",
    "    # Cập nhật theta0\n",
    "    gradient[0] = (1 / m) * np.sum(predict(X, theta) - y)\n",
    "\n",
    "    # Cập nhật theta1, theta2, theta3\n",
    "    for j in range(1, 4):\n",
    "        gradient[j] = (1 / m) * np.sum((predict(X, theta) - y) * X[j - 1])\n",
    "\n",
    "    # Cập nhật theta\n",
    "    theta -= learning_rate * gradient\n",
    "\n",
    "# Vòng lặp Gradient Descent\n",
    "for i in range(iterations):\n",
    "    update_gd()\n",
    "\n",
    "# In kết quả\n",
    "print(\"Final theta:\", theta)\n",
    "print(\"Final cost:\", cost_function(X, y, theta))\n",
    "\n",
    "\n"
   ]
  }
 ],
 "metadata": {
  "kernelspec": {
   "display_name": "Python 3",
   "language": "python",
   "name": "python3"
  },
  "language_info": {
   "codemirror_mode": {
    "name": "ipython",
    "version": 3
   },
   "file_extension": ".py",
   "mimetype": "text/x-python",
   "name": "python",
   "nbconvert_exporter": "python",
   "pygments_lexer": "ipython3",
   "version": "3.11.9"
  }
 },
 "nbformat": 4,
 "nbformat_minor": 2
}
